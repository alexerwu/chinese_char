{
 "cells": [
  {
   "cell_type": "markdown",
   "metadata": {},
   "source": [
    "## Chinese character evolution pre-session\n",
    "### John Burt<br/>Portland Data Science Group<br/>Applied Data Science Meetup series\n",
    "\n"
   ]
  },
  {
   "cell_type": "code",
   "execution_count": 22,
   "metadata": {},
   "outputs": [
    {
     "name": "stdout",
     "output_type": "stream",
     "text": [
      "starting conversion:\n",
      "bmpdata bmpdata/a440 bmpdata/a447 bmpdata/a448 bmpdata/a44a bmpdata/a451 bmpdata/a453 bmpdata/a454 bmpdata/a455 bmpdata/a457 bmpdata/a45d bmpdata/a45f bmpdata/a464 bmpdata/a466 bmpdata/a467 bmpdata/a46a bmpdata/a46b bmpdata/a46c bmpdata/a470 bmpdata/a473 bmpdata/a474 bmpdata/a475 bmpdata/a476 bmpdata/a477 bmpdata/a4a3 bmpdata/a4a4 bmpdata/a4a7 bmpdata/a4bd bmpdata/a4c0 bmpdata/a4c6 bmpdata/a4ce bmpdata/a4d1 bmpdata/a4d2 bmpdata/a4e2 bmpdata/a4e5 bmpdata/a4e8 bmpdata/a4e9 bmpdata/a4eb bmpdata/a4ec bmpdata/a4f1 bmpdata/a4f4 bmpdata/a4f5 bmpdata/a4fb bmpdata/a4fd bmpdata/a540 bmpdata/a548 bmpdata/a54e bmpdata/a558 bmpdata/a55b bmpdata/a568 bmpdata/a569 bmpdata/a56b bmpdata/a57e bmpdata/a5a6 bmpdata/a5aa bmpdata/a5bb bmpdata/a5bf bmpdata/a5c1 bmpdata/a5c9 bmpdata/a5ce bmpdata/a5d0 bmpdata/a5d1 bmpdata/a5d5 bmpdata/a5d8 bmpdata/a5db bmpdata/a5df bmpdata/a5f4 bmpdata/a5fd bmpdata/a5fe bmpdata/a650 bmpdata/a656 bmpdata/a658 bmpdata/a65a bmpdata/a65d bmpdata/a65e bmpdata/a661 bmpdata/a662 bmpdata/a668 bmpdata/a670 bmpdata/a67d bmpdata/a67e bmpdata/a6a8 bmpdata/a6b3 bmpdata/a6b8 bmpdata/a6b9 bmpdata/a6ca bmpdata/a6cc bmpdata/a6d1 bmpdata/a6d3 bmpdata/a6d5 bmpdata/a6d7 bmpdata/a6db bmpdata/a6e4 bmpdata/a6e6 bmpdata/a6e7 bmpdata/a6e8 bmpdata/a6ec bmpdata/a6fd bmpdata/a740 bmpdata/a751 bmpdata/a7da bmpdata/a86b bmpdata/a8a3 bmpdata/a8a7 bmpdata/a8ad bmpdata/a8ae bmpdata/a8bd bmpdata/a8c3 bmpdata/a8c6 bmpdata/a8cf bmpdata/a8d3 bmpdata/a8e0 bmpdata/a8e2 bmpdata/a8e4 bmpdata/a8ee bmpdata/a94d bmpdata/a977 bmpdata/a9ce bmpdata/a9d2 bmpdata/a9fa bmpdata/aa46 bmpdata/aa47 bmpdata/aa6b bmpdata/aaaf bmpdata/aabe bmpdata/aacc bmpdata/aaed bmpdata/aaf7 bmpdata/aaf8 bmpdata/aaf9 bmpdata/ab42 bmpdata/ab48 bmpdata/ab65 bmpdata/ac46 bmpdata/acdb bmpdata/acdd bmpdata/acf5 bmpdata/acfc bmpdata/ad6e bmpdata/ad78 bmpdata/adab bmpdata/adb1 bmpdata/adec bmpdata/adfb bmpdata/ae61 bmpdata/aef0 bmpdata/aefc bmpdata/afe0 bmpdata/b05f bmpdata/b0a8 bmpdata/b0aa bmpdata/b0dd bmpdata/b0ea bmpdata/b160 bmpdata/b16f bmpdata/b1d0 bmpdata/b351 bmpdata/b371 bmpdata/b3a3 bmpdata/b3bd bmpdata/b3be bmpdata/b44e bmpdata/b4b5 bmpdata/b54c bmpdata/b54d bmpdata/b5a5 bmpdata/b5e6 bmpdata/b6ba bmpdata/b6c0 bmpdata/b6c2 bmpdata/b74e bmpdata/b773 bmpdata/b77e bmpdata/b8dc bmpdata/b944 bmpdata/bb44 bmpdata/bb50 bmpdata/bdde bmpdata/bec7 bmpdata/bed4 bmpdata/c059 bmpdata/c0b3 bmpdata/c16e bmpdata/c2c5 bmpdata/c2fb bmpdata/c3f6 bmpdata/c9f3 \n",
      "\n",
      "done\n"
     ]
    }
   ],
   "source": [
    "import os\n",
    "import re\n",
    "from PIL import Image\n",
    "from scipy import ndimage\n",
    "\n",
    "sourcetop = 'bmpdata' # name of dir holding source image data\n",
    "desttop = 'pngdata' # name of dir to put converted png image data\n",
    "\n",
    "print('starting conversion:')\n",
    "for dirpath, dirnames, filelist in os.walk(top=sourcetop):\n",
    "    # change \\ to /\n",
    "    srcdir = dirpath.replace('\\\\','/')\n",
    "    # create destination dir\n",
    "    destdir = srcdir.replace(sourcetop, desttop)\n",
    "    # create new destination dir\n",
    "    if not os.path.exists(destdir):\n",
    "        # need try/except to catch potential race condition\n",
    "        try:\n",
    "            os.makedirs(destdir)\n",
    "        except OSError as exc: # Guard against race condition\n",
    "            if exc.errno != errno.EEXIST:\n",
    "                raise\n",
    "                \n",
    "    print(srcdir+' ',end='')\n",
    "            \n",
    "    # convert each bmp file in the current folder\n",
    "    for fname in filelist:\n",
    "        if fname[-3:]=='bmp':\n",
    "            \n",
    "            # generate source and dest pathnames\n",
    "            parts = re.split('\\.',fname)\n",
    "            srcpath = srcdir+'/'+parts[0]+'.bmp'\n",
    "            destpath = destdir+'/'+parts[0]+'.png'\n",
    "            \n",
    "            # open BMP, convert to 1 bit, save as PNG\n",
    "            Image.open(srcpath).convert('1').save(destpath, quality=100, optimize=True, bits=1)\n",
    "            \n",
    "print('\\n\\ndone')\n"
   ]
  },
  {
   "cell_type": "code",
   "execution_count": null,
   "metadata": {},
   "outputs": [],
   "source": []
  }
 ],
 "metadata": {
  "kernelspec": {
   "display_name": "Python 3",
   "language": "python",
   "name": "python3"
  },
  "language_info": {
   "codemirror_mode": {
    "name": "ipython",
    "version": 3
   },
   "file_extension": ".py",
   "mimetype": "text/x-python",
   "name": "python",
   "nbconvert_exporter": "python",
   "pygments_lexer": "ipython3",
   "version": "3.5.5"
  }
 },
 "nbformat": 4,
 "nbformat_minor": 2
}
